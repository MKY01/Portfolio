{
 "cells": [
  {
   "cell_type": "markdown",
   "metadata": {},
   "source": [
    "# Intro to Deep Learning with Keras\n",
    "### Starter Code\n",
    "* **IBM Code London Meetup:** https://www.meetup.com/IBM-Code-London/events/255417147/\n",
    "* **Date:** Wed 31st October 2018\n",
    "* **Instructor:** John Sandall\n",
    "* **Contact:** john@coefficient.ai / @john_sandall\n",
    "\n",
    "---"
   ]
  },
  {
   "cell_type": "code",
   "execution_count": 1,
   "metadata": {},
   "outputs": [],
   "source": [
    "# Imports\n",
    "import matplotlib.pyplot as plt\n",
    "import numpy as np\n",
    "import pandas as pd\n",
    "from pathlib import Path\n",
    "import seaborn as sns\n",
    "from sklearn import datasets, ensemble, linear_model, model_selection, neighbors, metrics, preprocessing, neural_network\n",
    "import warnings\n",
    "\n",
    "%matplotlib inline\n",
    "warnings.filterwarnings('ignore')\n",
    "np.random.seed(0)"
   ]
  },
  {
   "cell_type": "markdown",
   "metadata": {},
   "source": [
    "## Lab: Multi-Layer Perceptron\n",
    "### The MNIST Dataset\n",
    "![MNIST](https://upload.wikimedia.org/wikipedia/commons/2/27/MnistExamples.png)\n",
    "\n",
    "From [Wikipedia](https://en.wikipedia.org/wiki/MNIST_database):\n",
    "> The MNIST database (Modified National Institute of Standards and Technology database) is a large database of handwritten digits that is commonly used for training various image processing systems. The database is also widely used for training and testing in the field of machine learning.\n",
    "\n",
    "From [OpenML](https://www.openml.org/d/554) (the source for this specific data):\n",
    "> The MNIST database of handwritten digits with 784 features, raw data available at: http://yann.lecun.com/exdb/mnist/. It can be split in a training set of the first 60,000 examples, and a test set of 10,000 examples "
   ]
  },
  {
   "cell_type": "code",
   "execution_count": 2,
   "metadata": {},
   "outputs": [
    {
     "name": "stderr",
     "output_type": "stream",
     "text": [
      "Using TensorFlow backend.\n"
     ]
    }
   ],
   "source": [
    "from keras import datasets"
   ]
  },
  {
   "cell_type": "code",
   "execution_count": 3,
   "metadata": {},
   "outputs": [
    {
     "name": "stdout",
     "output_type": "stream",
     "text": [
      "Downloading data from https://s3.amazonaws.com/img-datasets/mnist.npz\n",
      "11493376/11490434 [==============================] - 9s 1us/step\n"
     ]
    }
   ],
   "source": [
    "# Download MNIST via Keras (requires internet connection)\n",
    "(X_train, y_train), (X_test, y_test) = datasets.mnist.load_data()"
   ]
  },
  {
   "cell_type": "code",
   "execution_count": 4,
   "metadata": {},
   "outputs": [
    {
     "name": "stdout",
     "output_type": "stream",
     "text": [
      "X_train: (60000, 28, 28)\n",
      "X_test: (10000, 28, 28)\n",
      "y_train: (60000,)\n",
      "y_test: (10000,)\n",
      "One sample from X_train: (28, 28)\n"
     ]
    }
   ],
   "source": [
    "# What does this data look like?\n",
    "print(\"X_train:\", X_train.shape)\n",
    "print(\"X_test:\", X_test.shape)\n",
    "print(\"y_train:\", y_train.shape)\n",
    "print(\"y_test:\", y_test.shape)\n",
    "print(\"One sample from X_train:\", X_train[0].shape)"
   ]
  },
  {
   "cell_type": "code",
   "execution_count": 5,
   "metadata": {},
   "outputs": [
    {
     "name": "stdout",
     "output_type": "stream",
     "text": [
      "Class = 0\n",
      "Class = 4\n"
     ]
    },
    {
     "data": {
      "text/plain": [
       "<matplotlib.image.AxesImage at 0x1a407185f8>"
      ]
     },
     "execution_count": 5,
     "metadata": {},
     "output_type": "execute_result"
    },
    {
     "data": {
      "image/png": "[encoded data removed]",
      "text/plain": [
       "<Figure size 288x288 with 1 Axes>"
      ]
     },
     "metadata": {
      "needs_background": "light"
     },
     "output_type": "display_data"
    },
    {
     "data": {
      "image/png": "[encoded data removed]",
      "text/plain": [
       "<Figure size 288x288 with 1 Axes>"
      ]
     },
     "metadata": {
      "needs_background": "light"
     },
     "output_type": "display_data"
    }
   ],
   "source": [
    "# Visualise some samples\n",
    "print(\"Class =\", y_train[1])\n",
    "plt.matshow(X_train[1], cmap=plt.cm.gray)\n",
    "\n",
    "print(\"Class =\", y_train[2])\n",
    "plt.matshow(X_train[2], cmap=plt.cm.gray)"
   ]
  },
  {
   "cell_type": "code",
   "execution_count": 6,
   "metadata": {},
   "outputs": [
    {
     "data": {
      "text/plain": [
       "array([[  0,   0,   0,   0,   0,   0,   0,   0,   0,   0,   0,   0,   0,\n",
       "          0,   0,   0,   0,   0,   0,   0,   0,   0,   0,   0,   0,   0,\n",
       "          0,   0],\n",
       "       [  0,   0,   0,   0,   0,   0,   0,   0,   0,   0,   0,   0,   0,\n",
       "          0,   0,   0,   0,   0,   0,   0,   0,   0,   0,   0,   0,   0,\n",
       "          0,   0],\n",
       "       [  0,   0,   0,   0,   0,   0,   0,   0,   0,   0,   0,   0,   0,\n",
       "          0,   0,   0,   0,   0,   0,   0,   0,   0,   0,   0,   0,   0,\n",
       "          0,   0],\n",
       "       [  0,   0,   0,   0,   0,   0,   0,   0,   0,   0,   0,   0,   0,\n",
       "          0,   0,   0,   0,   0,   0,   0,   0,   0,   0,   0,   0,   0,\n",
       "          0,   0],\n",
       "       [  0,   0,   0,   0,   0,   0,   0,   0,   0,   0,   0,   0,   0,\n",
       "          0,   0,   0,   0,   0,   0,   0,   0,   0,   0,   0,   0,   0,\n",
       "          0,   0],\n",
       "       [  0,   0,   0,   0,   0,   0,   0,   0,   0,   0,   0,   0,   3,\n",
       "         18,  18,  18, 126, 136, 175,  26, 166, 255, 247, 127,   0,   0,\n",
       "          0,   0],\n",
       "       [  0,   0,   0,   0,   0,   0,   0,   0,  30,  36,  94, 154, 170,\n",
       "        253, 253, 253, 253, 253, 225, 172, 253, 242, 195,  64,   0,   0,\n",
       "          0,   0],\n",
       "       [  0,   0,   0,   0,   0,   0,   0,  49, 238, 253, 253, 253, 253,\n",
       "        253, 253, 253, 253, 251,  93,  82,  82,  56,  39,   0,   0,   0,\n",
       "          0,   0],\n",
       "       [  0,   0,   0,   0,   0,   0,   0,  18, 219, 253, 253, 253, 253,\n",
       "        253, 198, 182, 247, 241,   0,   0,   0,   0,   0,   0,   0,   0,\n",
       "          0,   0],\n",
       "       [  0,   0,   0,   0,   0,   0,   0,   0,  80, 156, 107, 253, 253,\n",
       "        205,  11,   0,  43, 154,   0,   0,   0,   0,   0,   0,   0,   0,\n",
       "          0,   0],\n",
       "       [  0,   0,   0,   0,   0,   0,   0,   0,   0,  14,   1, 154, 253,\n",
       "         90,   0,   0,   0,   0,   0,   0,   0,   0,   0,   0,   0,   0,\n",
       "          0,   0],\n",
       "       [  0,   0,   0,   0,   0,   0,   0,   0,   0,   0,   0, 139, 253,\n",
       "        190,   2,   0,   0,   0,   0,   0,   0,   0,   0,   0,   0,   0,\n",
       "          0,   0],\n",
       "       [  0,   0,   0,   0,   0,   0,   0,   0,   0,   0,   0,  11, 190,\n",
       "        253,  70,   0,   0,   0,   0,   0,   0,   0,   0,   0,   0,   0,\n",
       "          0,   0],\n",
       "       [  0,   0,   0,   0,   0,   0,   0,   0,   0,   0,   0,   0,  35,\n",
       "        241, 225, 160, 108,   1,   0,   0,   0,   0,   0,   0,   0,   0,\n",
       "          0,   0],\n",
       "       [  0,   0,   0,   0,   0,   0,   0,   0,   0,   0,   0,   0,   0,\n",
       "         81, 240, 253, 253, 119,  25,   0,   0,   0,   0,   0,   0,   0,\n",
       "          0,   0],\n",
       "       [  0,   0,   0,   0,   0,   0,   0,   0,   0,   0,   0,   0,   0,\n",
       "          0,  45, 186, 253, 253, 150,  27,   0,   0,   0,   0,   0,   0,\n",
       "          0,   0],\n",
       "       [  0,   0,   0,   0,   0,   0,   0,   0,   0,   0,   0,   0,   0,\n",
       "          0,   0,  16,  93, 252, 253, 187,   0,   0,   0,   0,   0,   0,\n",
       "          0,   0],\n",
       "       [  0,   0,   0,   0,   0,   0,   0,   0,   0,   0,   0,   0,   0,\n",
       "          0,   0,   0,   0, 249, 253, 249,  64,   0,   0,   0,   0,   0,\n",
       "          0,   0],\n",
       "       [  0,   0,   0,   0,   0,   0,   0,   0,   0,   0,   0,   0,   0,\n",
       "          0,  46, 130, 183, 253, 253, 207,   2,   0,   0,   0,   0,   0,\n",
       "          0,   0],\n",
       "       [  0,   0,   0,   0,   0,   0,   0,   0,   0,   0,   0,   0,  39,\n",
       "        148, 229, 253, 253, 253, 250, 182,   0,   0,   0,   0,   0,   0,\n",
       "          0,   0],\n",
       "       [  0,   0,   0,   0,   0,   0,   0,   0,   0,   0,  24, 114, 221,\n",
       "        253, 253, 253, 253, 201,  78,   0,   0,   0,   0,   0,   0,   0,\n",
       "          0,   0],\n",
       "       [  0,   0,   0,   0,   0,   0,   0,   0,  23,  66, 213, 253, 253,\n",
       "        253, 253, 198,  81,   2,   0,   0,   0,   0,   0,   0,   0,   0,\n",
       "          0,   0],\n",
       "       [  0,   0,   0,   0,   0,   0,  18, 171, 219, 253, 253, 253, 253,\n",
       "        195,  80,   9,   0,   0,   0,   0,   0,   0,   0,   0,   0,   0,\n",
       "          0,   0],\n",
       "       [  0,   0,   0,   0,  55, 172, 226, 253, 253, 253, 253, 244, 133,\n",
       "         11,   0,   0,   0,   0,   0,   0,   0,   0,   0,   0,   0,   0,\n",
       "          0,   0],\n",
       "       [  0,   0,   0,   0, 136, 253, 253, 253, 212, 135, 132,  16,   0,\n",
       "          0,   0,   0,   0,   0,   0,   0,   0,   0,   0,   0,   0,   0,\n",
       "          0,   0],\n",
       "       [  0,   0,   0,   0,   0,   0,   0,   0,   0,   0,   0,   0,   0,\n",
       "          0,   0,   0,   0,   0,   0,   0,   0,   0,   0,   0,   0,   0,\n",
       "          0,   0],\n",
       "       [  0,   0,   0,   0,   0,   0,   0,   0,   0,   0,   0,   0,   0,\n",
       "          0,   0,   0,   0,   0,   0,   0,   0,   0,   0,   0,   0,   0,\n",
       "          0,   0],\n",
       "       [  0,   0,   0,   0,   0,   0,   0,   0,   0,   0,   0,   0,   0,\n",
       "          0,   0,   0,   0,   0,   0,   0,   0,   0,   0,   0,   0,   0,\n",
       "          0,   0]], dtype=uint8)"
      ]
     },
     "execution_count": 6,
     "metadata": {},
     "output_type": "execute_result"
    }
   ],
   "source": [
    "# Let's look at a single sample\n",
    "X_train[0]"
   ]
  },
  {
   "cell_type": "code",
   "execution_count": 7,
   "metadata": {},
   "outputs": [
    {
     "name": "stdout",
     "output_type": "stream",
     "text": [
      "(28, 28)\n",
      "(784,)\n"
     ]
    }
   ],
   "source": [
    "# This needs to be flattened before we can feed it into sklearn's MLPClassifier\n",
    "X_train_flat = np.array([elt.reshape(784,) for elt in X_train])\n",
    "X_test_flat = np.array([elt.reshape(784,) for elt in X_test])\n",
    "print(X_train[0].shape)\n",
    "print(X_train_flat[0].shape)"
   ]
  },
  {
   "cell_type": "markdown",
   "metadata": {},
   "source": [
    "### Train a multi-layer perceptron in scikit-learn"
   ]
  },
  {
   "cell_type": "code",
   "execution_count": 8,
   "metadata": {},
   "outputs": [
    {
     "name": "stdout",
     "output_type": "stream",
     "text": [
      "Iteration 1, loss = 88770.19492622\n",
      "Iteration 2, loss = 94144.72785948\n",
      "Iteration 3, loss = 94116.48942606\n",
      "Iteration 4, loss = 94088.25915097\n",
      "Iteration 5, loss = 94060.03773325\n",
      "Iteration 6, loss = 94031.82434269\n",
      "Iteration 7, loss = 94003.61939577\n",
      "Iteration 8, loss = 93975.42334401\n",
      "Iteration 9, loss = 93947.23547037\n",
      "Iteration 10, loss = 93919.05614157\n",
      "Training set score: 0.112367\n",
      "Test set score: 0.113500\n"
     ]
    }
   ],
   "source": [
    "# Fit a basic model\n",
    "mlp = neural_network.MLPClassifier(hidden_layer_sizes=(50,), max_iter=10, alpha=1e-4,\n",
    "                    solver='sgd', verbose=10, tol=1e-4, random_state=1,\n",
    "                    learning_rate_init=.1)\n",
    "mlp.fit(X_train_flat, y_train)\n",
    "print(\"Training set score: %f\" % mlp.score(X_train_flat, y_train))\n",
    "print(\"Test set score: %f\" % mlp.score(X_test_flat, y_test))"
   ]
  },
  {
   "cell_type": "code",
   "execution_count": 9,
   "metadata": {},
   "outputs": [
    {
     "name": "stdout",
     "output_type": "stream",
     "text": [
      "Hidden layer: (784, 50)\n",
      "Output layer: (50, 10)\n"
     ]
    }
   ],
   "source": [
    "# What do the coefficients look like?\n",
    "print(\"Hidden layer:\", mlp.coefs_[0].shape)\n",
    "print(\"Output layer:\", mlp.coefs_[1].shape)"
   ]
  },
  {
   "cell_type": "code",
   "execution_count": 10,
   "metadata": {},
   "outputs": [
    {
     "data": {
      "text/plain": [
       "<matplotlib.image.AxesImage at 0x1a4139c6d8>"
      ]
     },
     "execution_count": 10,
     "metadata": {},
     "output_type": "execute_result"
    },
    {
     "data": {
      "image/png": "[encoded data removed]",
      "text/plain": [
       "<Figure size 288x288 with 1 Axes>"
      ]
     },
     "metadata": {
      "needs_background": "light"
     },
     "output_type": "display_data"
    },
    {
     "data": {
      "image/png": "[encoded data removed]",
      "text/plain": [
       "<Figure size 288x288 with 1 Axes>"
      ]
     },
     "metadata": {
      "needs_background": "light"
     },
     "output_type": "display_data"
    },
    {
     "data": {
      "image/png": "[encoded data removed]",
      "text/plain": [
       "<Figure size 288x288 with 1 Axes>"
      ]
     },
     "metadata": {
      "needs_background": "light"
     },
     "output_type": "display_data"
    }
   ],
   "source": [
    "# There are 50 of these \"weight matrices\", each specialising in enhancing signal from certain shapes/areas.\n",
    "# Here are first few.\n",
    "plt.matshow(mlp.coefs_[0][:,1].reshape(28,28))\n",
    "plt.matshow(mlp.coefs_[0][:,2].reshape(28,28))\n",
    "plt.matshow(mlp.coefs_[0][:,3].reshape(28,28))"
   ]
  },
  {
   "cell_type": "code",
   "execution_count": 11,
   "metadata": {},
   "outputs": [
    {
     "name": "stdout",
     "output_type": "stream",
     "text": [
      "Iteration 1, loss = 2.78019142\n",
      "Iteration 2, loss = 2.05903847\n",
      "Iteration 3, loss = 1.83975622\n",
      "Iteration 4, loss = 1.63369531\n",
      "Iteration 5, loss = 1.43538198\n",
      "Iteration 6, loss = 1.37235283\n",
      "Iteration 7, loss = 1.33507616\n",
      "Iteration 8, loss = 1.31028038\n",
      "Iteration 9, loss = 1.28911785\n",
      "Iteration 10, loss = 1.25762240\n",
      "Iteration 11, loss = 1.20838550\n",
      "Iteration 12, loss = 1.14104039\n",
      "Iteration 13, loss = 1.07083018\n",
      "Iteration 14, loss = 0.99207111\n",
      "Iteration 15, loss = 0.93662612\n",
      "Iteration 16, loss = 0.90248672\n",
      "Iteration 17, loss = 0.87662723\n",
      "Iteration 18, loss = 0.85567538\n",
      "Iteration 19, loss = 0.84098512\n",
      "Iteration 20, loss = 0.82903642\n",
      "Iteration 21, loss = 0.81932746\n",
      "Iteration 22, loss = 0.80374098\n",
      "Iteration 23, loss = 0.78816127\n",
      "Iteration 24, loss = 0.77450312\n",
      "Iteration 25, loss = 0.76497822\n",
      "Iteration 26, loss = 0.75699685\n",
      "Iteration 27, loss = 0.75168843\n",
      "Iteration 28, loss = 0.74546723\n",
      "Iteration 29, loss = 0.72781397\n",
      "Iteration 30, loss = 0.70740627\n",
      "Iteration 31, loss = 0.69675634\n",
      "Iteration 32, loss = 0.68774868\n",
      "Iteration 33, loss = 0.68122275\n",
      "Iteration 34, loss = 0.67493452\n",
      "Iteration 35, loss = 0.67049424\n",
      "Iteration 36, loss = 0.66623202\n",
      "Iteration 37, loss = 0.66426799\n",
      "Iteration 38, loss = 0.66039229\n",
      "Iteration 39, loss = 0.65651058\n",
      "Iteration 40, loss = 0.65493351\n",
      "Iteration 41, loss = 0.65276598\n",
      "Iteration 42, loss = 0.65792770\n",
      "Iteration 43, loss = 0.65161513\n",
      "Iteration 44, loss = 0.64881095\n",
      "Iteration 45, loss = 0.64865144\n",
      "Iteration 46, loss = 0.64593821\n",
      "Iteration 47, loss = 0.64253183\n",
      "Iteration 48, loss = 0.64629162\n",
      "Iteration 49, loss = 0.64001201\n",
      "Iteration 50, loss = 0.63999807\n",
      "Iteration 51, loss = 0.63513373\n",
      "Iteration 52, loss = 0.63574237\n",
      "Iteration 53, loss = 0.63179741\n",
      "Iteration 54, loss = 0.62895984\n",
      "Iteration 55, loss = 0.62742236\n",
      "Iteration 56, loss = 0.62483174\n",
      "Iteration 57, loss = 0.62385248\n",
      "Iteration 58, loss = 0.62092863\n",
      "Iteration 59, loss = 0.62082349\n",
      "Iteration 60, loss = 0.62272402\n",
      "Iteration 61, loss = 0.61827847\n",
      "Iteration 62, loss = 0.61464114\n",
      "Iteration 63, loss = 0.61166785\n",
      "Iteration 64, loss = 0.61172934\n",
      "Iteration 65, loss = 0.60732064\n",
      "Iteration 66, loss = 0.60691286\n",
      "Iteration 67, loss = 0.60526185\n",
      "Iteration 68, loss = 0.59614656\n",
      "Iteration 69, loss = 0.59307029\n",
      "Iteration 70, loss = 0.53246145\n",
      "Iteration 71, loss = 0.49336594\n",
      "Iteration 72, loss = 0.47837298\n",
      "Iteration 73, loss = 0.46530837\n",
      "Iteration 74, loss = 0.46167818\n",
      "Iteration 75, loss = 0.45752728\n",
      "Iteration 76, loss = 0.44815187\n",
      "Iteration 77, loss = 0.44450751\n",
      "Iteration 78, loss = 0.44314970\n",
      "Iteration 79, loss = 0.44087837\n",
      "Iteration 80, loss = 0.43659857\n",
      "Iteration 81, loss = 0.43355172\n",
      "Iteration 82, loss = 0.43453564\n",
      "Iteration 83, loss = 0.43199908\n",
      "Iteration 84, loss = 0.42940789\n",
      "Iteration 85, loss = 0.42820296\n",
      "Iteration 86, loss = 0.42865623\n",
      "Iteration 87, loss = 0.42437592\n",
      "Iteration 88, loss = 0.42654736\n",
      "Iteration 89, loss = 0.42092034\n",
      "Iteration 90, loss = 0.42131276\n",
      "Iteration 91, loss = 0.42250573\n",
      "Iteration 92, loss = 0.41868240\n",
      "Iteration 93, loss = 0.41789157\n",
      "Iteration 94, loss = 0.41786818\n",
      "Iteration 95, loss = 0.41692943\n",
      "Iteration 96, loss = 0.41449926\n",
      "Iteration 97, loss = 0.41458577\n",
      "Iteration 98, loss = 0.41196021\n",
      "Iteration 99, loss = 0.41170388\n",
      "Iteration 100, loss = 0.41215886\n",
      "Iteration 101, loss = 0.41111586\n",
      "Iteration 102, loss = 0.41072841\n",
      "Iteration 103, loss = 0.40676751\n",
      "Iteration 104, loss = 0.40703394\n",
      "Iteration 105, loss = 0.40589448\n",
      "Iteration 106, loss = 0.40621198\n",
      "Iteration 107, loss = 0.40538506\n",
      "Iteration 108, loss = 0.40562965\n",
      "Iteration 109, loss = 0.40310685\n",
      "Iteration 110, loss = 0.40532840\n",
      "Iteration 111, loss = 0.40361116\n",
      "Iteration 112, loss = 0.40515531\n",
      "Iteration 113, loss = 0.40203294\n",
      "Iteration 114, loss = 0.40421935\n",
      "Iteration 115, loss = 0.40101426\n",
      "Iteration 116, loss = 0.40195907\n",
      "Iteration 117, loss = 0.40121857\n",
      "Iteration 118, loss = 0.40016635\n",
      "Iteration 119, loss = 0.39892189\n",
      "Iteration 120, loss = 0.39761727\n",
      "Iteration 121, loss = 0.39795392\n",
      "Iteration 122, loss = 0.39697978\n",
      "Iteration 123, loss = 0.39546271\n",
      "Iteration 124, loss = 0.39696762\n",
      "Iteration 125, loss = 0.39319933\n",
      "Iteration 126, loss = 0.39512276\n",
      "Iteration 127, loss = 0.39504516\n",
      "Iteration 128, loss = 0.39282706\n",
      "Iteration 129, loss = 0.39466192\n",
      "Iteration 130, loss = 0.39355966\n",
      "Iteration 131, loss = 0.39430306\n",
      "Iteration 132, loss = 0.39139596\n",
      "Iteration 133, loss = 0.39300886\n",
      "Iteration 134, loss = 0.39520254\n",
      "Iteration 135, loss = 0.39144977\n",
      "Iteration 136, loss = 0.39119983\n",
      "Iteration 137, loss = 0.39123086\n",
      "Iteration 138, loss = 0.39125079\n",
      "Iteration 139, loss = 0.38949263\n",
      "Iteration 140, loss = 0.39005167\n",
      "Iteration 141, loss = 0.38763419\n",
      "Iteration 142, loss = 0.38828883\n",
      "Iteration 143, loss = 0.38950780\n",
      "Iteration 144, loss = 0.38752661\n",
      "Iteration 145, loss = 0.38759928\n",
      "Iteration 146, loss = 0.38814416\n",
      "Iteration 147, loss = 0.38724452\n",
      "Iteration 148, loss = 0.38767436\n",
      "Iteration 149, loss = 0.38589488\n",
      "Iteration 150, loss = 0.38704281\n",
      "Iteration 151, loss = 0.38704052\n",
      "Iteration 152, loss = 0.38845829\n",
      "Iteration 153, loss = 0.38635163\n",
      "Iteration 154, loss = 0.38503027\n",
      "Iteration 155, loss = 0.38675534\n",
      "Iteration 156, loss = 0.38755525\n",
      "Iteration 157, loss = 0.38622266\n",
      "Iteration 158, loss = 0.38552116\n",
      "Iteration 159, loss = 0.38456902\n",
      "Iteration 160, loss = 0.38575392\n",
      "Iteration 161, loss = 0.38413671\n",
      "Iteration 162, loss = 0.38439016\n",
      "Iteration 163, loss = 0.38392857\n",
      "Iteration 164, loss = 0.38268434\n",
      "Iteration 165, loss = 0.38229035\n",
      "Iteration 166, loss = 0.38240472\n",
      "Iteration 167, loss = 0.38252903\n",
      "Iteration 168, loss = 0.38362875\n",
      "Iteration 169, loss = 0.38153215\n",
      "Iteration 170, loss = 0.38228703\n",
      "Iteration 171, loss = 0.38182015\n",
      "Iteration 172, loss = 0.38256459\n",
      "Iteration 173, loss = 0.38290957\n",
      "Iteration 174, loss = 0.38345754\n",
      "Iteration 175, loss = 0.38202692\n",
      "Iteration 176, loss = 0.38329033\n",
      "Iteration 177, loss = 0.38091509\n",
      "Iteration 178, loss = 0.38244807\n",
      "Iteration 179, loss = 0.37927420\n",
      "Iteration 180, loss = 0.38115729\n",
      "Iteration 181, loss = 0.37998878\n",
      "Iteration 182, loss = 0.38161241\n",
      "Iteration 183, loss = 0.38145355\n",
      "Iteration 184, loss = 0.37996024\n",
      "Iteration 185, loss = 0.37963593\n",
      "Iteration 186, loss = 0.37865036\n",
      "Iteration 187, loss = 0.38103669\n",
      "Iteration 188, loss = 0.37966940\n",
      "Iteration 189, loss = 0.37982637\n",
      "Iteration 190, loss = 0.38092224\n",
      "Iteration 191, loss = 0.37833540\n",
      "Iteration 192, loss = 0.37944553\n",
      "Iteration 193, loss = 0.37887818\n",
      "Iteration 194, loss = 0.37978022\n",
      "Iteration 195, loss = 0.37703739\n",
      "Iteration 196, loss = 0.37722869\n",
      "Iteration 197, loss = 0.37654929\n",
      "Iteration 198, loss = 0.37742708\n",
      "Iteration 199, loss = 0.37720271\n",
      "Iteration 200, loss = 0.37620663\n",
      "Iteration 201, loss = 0.37983553\n",
      "Iteration 202, loss = 0.37981406\n",
      "Iteration 203, loss = 0.37708015\n",
      "Iteration 204, loss = 0.37685623\n",
      "Iteration 205, loss = 0.37794550\n",
      "Iteration 206, loss = 0.37657099\n",
      "Iteration 207, loss = 0.37940104\n",
      "Iteration 208, loss = 0.37661006\n",
      "Iteration 209, loss = 0.37713703\n",
      "Iteration 210, loss = 0.37803419\n",
      "Iteration 211, loss = 0.37864994\n",
      "Training loss did not improve more than tol=0.000100 for 10 consecutive epochs. Stopping.\n"
     ]
    },
    {
     "data": {
      "text/plain": [
       "MLPClassifier(activation='relu', alpha=0.0001, batch_size='auto', beta_1=0.9,\n",
       "       beta_2=0.999, early_stopping=False, epsilon=1e-08,\n",
       "       hidden_layer_sizes=(100, 100), learning_rate='constant',\n",
       "       learning_rate_init=0.001, max_iter=400, momentum=0.9,\n",
       "       n_iter_no_change=10, nesterovs_momentum=True, power_t=0.5,\n",
       "       random_state=1, shuffle=True, solver='sgd', tol=0.0001,\n",
       "       validation_fraction=0.1, verbose=10, warm_start=False)"
      ]
     },
     "execution_count": 11,
     "metadata": {},
     "output_type": "execute_result"
    }
   ],
   "source": [
    "# Fit a deep neural network with two hidden layers (both with 100 neurons)\n",
    "# WARNING: Takes a while! scikit-learn really isn't designed for this kind of work!\n",
    "mlp = neural_network.MLPClassifier(hidden_layer_sizes=(100, 100), max_iter=400, alpha=1e-4,\n",
    "                    solver='sgd', verbose=10, tol=1e-4, random_state=1)\n",
    "mlp.fit(X_train_flat, y_train)"
   ]
  },
  {
   "cell_type": "code",
   "execution_count": 12,
   "metadata": {},
   "outputs": [
    {
     "name": "stdout",
     "output_type": "stream",
     "text": [
      "Training set score: 0.884800\n",
      "Test set score: 0.880600\n"
     ]
    }
   ],
   "source": [
    "print(\"Training set score: %f\" % mlp.score(X_train_flat, y_train))\n",
    "print(\"Test set score: %f\" % mlp.score(X_test_flat, y_test))"
   ]
  },
  {
   "cell_type": "code",
   "execution_count": 13,
   "metadata": {},
   "outputs": [
    {
     "name": "stdout",
     "output_type": "stream",
     "text": [
      "Hidden layer #1: (784, 100)\n",
      "Hidden layer #2: (100, 100)\n",
      "Output layer: (100, 10)\n"
     ]
    },
    {
     "data": {
      "text/plain": [
       "<matplotlib.image.AxesImage at 0x10afcf358>"
      ]
     },
     "execution_count": 13,
     "metadata": {},
     "output_type": "execute_result"
    },
    {
     "data": {
      "image/png": "[encoded data removed]",
      "text/plain": [
       "<Figure size 288x288 with 1 Axes>"
      ]
     },
     "metadata": {
      "needs_background": "light"
     },
     "output_type": "display_data"
    },
    {
     "data": {
      "image/png": "[encoded data removed]",
      "text/plain": [
       "<Figure size 288x288 with 1 Axes>"
      ]
     },
     "metadata": {
      "needs_background": "light"
     },
     "output_type": "display_data"
    },
    {
     "data": {
      "image/png": "[encoded data removed]",
      "text/plain": [
       "<Figure size 288x288 with 1 Axes>"
      ]
     },
     "metadata": {
      "needs_background": "light"
     },
     "output_type": "display_data"
    }
   ],
   "source": [
    "# What do the coefficients look like?\n",
    "print(\"Hidden layer #1:\", mlp.coefs_[0].shape)\n",
    "print(\"Hidden layer #2:\", mlp.coefs_[1].shape)\n",
    "print(\"Output layer:\", mlp.coefs_[2].shape)\n",
    "\n",
    "# Look at some of the weight matrices in the first and second layer.\n",
    "plt.matshow(mlp.coefs_[0][:,1].reshape(28,28))\n",
    "plt.matshow(mlp.coefs_[0][:,2].reshape(28,28))\n",
    "plt.matshow(mlp.coefs_[1])"
   ]
  },
  {
   "cell_type": "code",
   "execution_count": 14,
   "metadata": {},
   "outputs": [
    {
     "name": "stdout",
     "output_type": "stream",
     "text": [
      "Predicted class: 7\n",
      "Predicted probabilities: [0.0, 0.0, 0.0001, 0.0012, 0.0, 0.0, 0.0, 0.9963, 0.0, 0.0024]\n"
     ]
    },
    {
     "data": {
      "text/plain": [
       "<matplotlib.image.AxesImage at 0x1a4140f128>"
      ]
     },
     "execution_count": 14,
     "metadata": {},
     "output_type": "execute_result"
    },
    {
     "data": {
      "image/png": "[encoded data removed]",
      "text/plain": [
       "<Figure size 288x288 with 1 Axes>"
      ]
     },
     "metadata": {
      "needs_background": "light"
     },
     "output_type": "display_data"
    }
   ],
   "source": [
    "# Visualise and predict for one of the test set classes\n",
    "print(\"Predicted class:\", mlp.predict(X_test_flat[:1])[0])\n",
    "print(\"Predicted probabilities:\", [round(x, 4) for x in mlp.predict_proba(X_test_flat[:1])[0]])\n",
    "plt.matshow(X_test[0])"
   ]
  },
  {
   "cell_type": "code",
   "execution_count": 15,
   "metadata": {},
   "outputs": [
    {
     "data": {
      "image/png": "[encoded data removed]",
      "text/plain": [
       "<Figure size 432x288 with 2 Axes>"
      ]
     },
     "metadata": {
      "needs_background": "light"
     },
     "output_type": "display_data"
    }
   ],
   "source": [
    "# Visualise confusion matrix\n",
    "# Adapted from sklearn example code:\n",
    "# http://scikit-learn.org/stable/auto_examples/model_selection/plot_confusion_matrix.html\n",
    "import itertools\n",
    "\n",
    "\n",
    "def plot_confusion_matrix(cm, classes):\n",
    "    \"\"\"\n",
    "    This function prints and plots the confusion matrix.\n",
    "    \"\"\"\n",
    "    plt.imshow(cm, interpolation='nearest', cmap=plt.cm.Blues)\n",
    "    plt.title('Confusion matrix')\n",
    "    plt.colorbar()\n",
    "    tick_marks = np.arange(len(classes))\n",
    "    plt.xticks(tick_marks, classes, rotation=45)\n",
    "    plt.yticks(tick_marks, classes)\n",
    "\n",
    "    thresh = cm.max() / 2.\n",
    "    for i, j in itertools.product(range(cm.shape[0]), range(cm.shape[1])):\n",
    "        plt.text(j, i, format(cm[i, j], 'd'),\n",
    "                 horizontalalignment=\"center\",\n",
    "                 color=\"white\" if cm[i, j] > thresh else \"black\")\n",
    "\n",
    "    plt.tight_layout()\n",
    "    plt.ylabel('True label')\n",
    "    plt.xlabel('Predicted label')\n",
    "\n",
    "cm = metrics.confusion_matrix(y_test, mlp.predict(X_test_flat))\n",
    "plot_confusion_matrix(cm, classes=range(10))\n",
    "\n",
    "# 5 is often confused with 8, as is 4/9, and 3/5."
   ]
  },
  {
   "cell_type": "markdown",
   "metadata": {},
   "source": [
    "---"
   ]
  },
  {
   "cell_type": "markdown",
   "metadata": {},
   "source": [
    "## Lab: Build a MLP in Keras"
   ]
  },
  {
   "cell_type": "code",
   "execution_count": 16,
   "metadata": {},
   "outputs": [],
   "source": [
    "from keras.callbacks import EarlyStopping, TensorBoard, ModelCheckpoint, LearningRateScheduler\n",
    "from keras.models import Sequential, Model, load_model, model_from_json, model_from_yaml, save_model\n",
    "from keras.layers import Input, Dense, Activation, BatchNormalization\n",
    "from keras import initializers, optimizers, utils"
   ]
  },
  {
   "cell_type": "code",
   "execution_count": 17,
   "metadata": {},
   "outputs": [
    {
     "name": "stdout",
     "output_type": "stream",
     "text": [
      "[name: \"/device:CPU:0\"\n",
      "device_type: \"CPU\"\n",
      "memory_limit: 268435456\n",
      "locality {\n",
      "}\n",
      "incarnation: 18196105059485075442\n",
      "]\n"
     ]
    }
   ],
   "source": [
    "# Check if Keras is using GPU version of TensorFlow\n",
    "from tensorflow.python.client import device_lib\n",
    "\n",
    "print(device_lib.list_local_devices())"
   ]
  },
  {
   "cell_type": "markdown",
   "metadata": {},
   "source": [
    "> #### Exercise: Create a `Sequential()` MLP with:\n",
    "> - One hidden layer containing 50-neurons that accepts the flattened MNIST data as input (i.e. vector of length 784) + ReLU activation.\n",
    "> - One 10-class output layer with Softmax activation.\n",
    "> - Assign this to a variable called `model`."
   ]
  },
  {
   "cell_type": "code",
   "execution_count": 18,
   "metadata": {},
   "outputs": [
    {
     "ename": "TypeError",
     "evalue": "'ellipsis' object is not iterable",
     "output_type": "error",
     "traceback": [
      "\u001b[0;31m---------------------------------------------------------------------------\u001b[0m",
      "\u001b[0;31mTypeError\u001b[0m                                 Traceback (most recent call last)",
      "\u001b[0;32m<ipython-input-18-ef38e667bd94>\u001b[0m in \u001b[0;36m<module>\u001b[0;34m\u001b[0m\n\u001b[1;32m      1\u001b[0m \u001b[0;31m# Define\u001b[0m\u001b[0;34m\u001b[0m\u001b[0;34m\u001b[0m\u001b[0m\n\u001b[0;32m----> 2\u001b[0;31m \u001b[0mmodel\u001b[0m \u001b[0;34m=\u001b[0m \u001b[0mSequential\u001b[0m\u001b[0;34m(\u001b[0m\u001b[0;34m...\u001b[0m\u001b[0;34m)\u001b[0m\u001b[0;34m\u001b[0m\u001b[0m\n\u001b[0m",
      "\u001b[0;32m/anaconda3/lib/python3.6/site-packages/keras/engine/sequential.py\u001b[0m in \u001b[0;36m__init__\u001b[0;34m(self, layers, name)\u001b[0m\n\u001b[1;32m     90\u001b[0m         \u001b[0;31m# Add to the model any layers passed to the constructor.\u001b[0m\u001b[0;34m\u001b[0m\u001b[0;34m\u001b[0m\u001b[0m\n\u001b[1;32m     91\u001b[0m         \u001b[0;32mif\u001b[0m \u001b[0mlayers\u001b[0m\u001b[0;34m:\u001b[0m\u001b[0;34m\u001b[0m\u001b[0m\n\u001b[0;32m---> 92\u001b[0;31m             \u001b[0;32mfor\u001b[0m \u001b[0mlayer\u001b[0m \u001b[0;32min\u001b[0m \u001b[0mlayers\u001b[0m\u001b[0;34m:\u001b[0m\u001b[0;34m\u001b[0m\u001b[0m\n\u001b[0m\u001b[1;32m     93\u001b[0m                 \u001b[0mself\u001b[0m\u001b[0;34m.\u001b[0m\u001b[0madd\u001b[0m\u001b[0;34m(\u001b[0m\u001b[0mlayer\u001b[0m\u001b[0;34m)\u001b[0m\u001b[0;34m\u001b[0m\u001b[0m\n\u001b[1;32m     94\u001b[0m \u001b[0;34m\u001b[0m\u001b[0m\n",
      "\u001b[0;31mTypeError\u001b[0m: 'ellipsis' object is not iterable"
     ]
    }
   ],
   "source": [
    "# Define\n",
    "model = Sequential(...)"
   ]
  },
  {
   "cell_type": "markdown",
   "metadata": {},
   "source": [
    "> #### Exercise: Compile `model` using `sgd` optimizer, `categorical_crossentropy` loss, and `accuracy` metric.\n",
    "> Cross-entropy aims to penalise models that estimate a low probability for the target class. For more intuition on how cross-entropy works, see https://www.quora.com/Whats-an-intuitive-way-to-think-of-cross-entropy"
   ]
  },
  {
   "cell_type": "code",
   "execution_count": null,
   "metadata": {},
   "outputs": [],
   "source": [
    "# Compile\n",
    "model.compile(...)"
   ]
  },
  {
   "cell_type": "markdown",
   "metadata": {},
   "source": [
    "> #### Exercise: Fit the compiled model to `X_train_flat` and `y_train` using 1 epoch and a `batch_size` of 32. How does the accuracy result compare to the 50-neuron MLP from sklearn?"
   ]
  },
  {
   "cell_type": "code",
   "execution_count": null,
   "metadata": {},
   "outputs": [],
   "source": [
    "# If you don't have a GPU you may wish to reduce the dataset for expedience. Otherwise leave this commented out.\n",
    "# X_train = X_train[:10000]\n",
    "# X_train_flat = X_train_flat[:10000]\n",
    "# y_train = y_train[:10000]\n",
    "\n",
    "# Convert labels to categorical one-hot encoding\n",
    "y_train_encoded = utils.to_categorical(y_train, num_classes=10)\n",
    "y_test_encoded = utils.to_categorical(y_test, num_classes=10)"
   ]
  },
  {
   "cell_type": "code",
   "execution_count": null,
   "metadata": {},
   "outputs": [],
   "source": [
    "# Fit (this may take a while!)\n",
    "model.fit(...)"
   ]
  },
  {
   "cell_type": "code",
   "execution_count": null,
   "metadata": {},
   "outputs": [],
   "source": [
    "score = model.evaluate(...)\n",
    "score"
   ]
  },
  {
   "cell_type": "markdown",
   "metadata": {},
   "source": [
    "> #### Exercise: Repeat for a DNN with two hidden layers with 100 neurons in each layer. How does this compare (in terms of both speed and accuracy) with the MLP DNN?\n",
    "> \n",
    "> **Tip!** This model is a lot more complex, you may want to run this for 50+ epochs."
   ]
  },
  {
   "cell_type": "code",
   "execution_count": null,
   "metadata": {},
   "outputs": [],
   "source": [
    "# ...\n"
   ]
  },
  {
   "cell_type": "markdown",
   "metadata": {},
   "source": [
    "---"
   ]
  },
  {
   "cell_type": "markdown",
   "metadata": {},
   "source": [
    "## Re-using Keras \"Application\" Models"
   ]
  },
  {
   "cell_type": "code",
   "execution_count": null,
   "metadata": {},
   "outputs": [],
   "source": [
    "from keras.applications.resnet50 import ResNet50\n",
    "from keras.preprocessing import image\n",
    "from keras.applications.resnet50 import preprocess_input, decode_predictions"
   ]
  },
  {
   "cell_type": "code",
   "execution_count": null,
   "metadata": {},
   "outputs": [],
   "source": [
    "model = ResNet50(weights='imagenet')"
   ]
  },
  {
   "cell_type": "code",
   "execution_count": null,
   "metadata": {},
   "outputs": [],
   "source": [
    "# Feel free to replace this with any image!\n",
    "import urllib.request\n",
    "\n",
    "img_path = 'elephant.jpg'\n",
    "image_url = \"https://upload.wikimedia.org/wikipedia/commons/thumb/3/37/African_Bush_Elephant.jpg/220px-African_Bush_Elephant.jpg\"\n",
    "urllib.request.urlretrieve(image_url, img_path)"
   ]
  },
  {
   "cell_type": "code",
   "execution_count": null,
   "metadata": {},
   "outputs": [],
   "source": [
    "img = image.load_img(img_path, target_size=(224, 224))\n",
    "x = image.img_to_array(img)\n",
    "x = np.expand_dims(x, axis=0)\n",
    "x = preprocess_input(x)\n",
    "\n",
    "preds = model.predict(x)\n",
    "# Decode the results into a list of tuples (class, description, probability)\n",
    "print('Predicted:', decode_predictions(preds, top=3)[0])"
   ]
  },
  {
   "cell_type": "markdown",
   "metadata": {},
   "source": [
    "---"
   ]
  },
  {
   "cell_type": "markdown",
   "metadata": {},
   "source": [
    "### Next steps\n",
    "* **[Intro to Python for Data Science](https://www.eventbrite.co.uk/e/intro-to-python-for-data-science-registration-51843211441)** Two workshops on 5th November (Part I) and 7th November (Part II). Use `LEARN2CODE29` for 10% off (gives you both workshops for just £90).\n",
    "* **[Future workshops](https://mailchi.mp/a06466074a39/coefficient-training):** [Sign up here](https://mailchi.mp/a06466074a39/coefficient-training)  to hear about future workshops.\n",
    "* **[Learn Python The Hard Way](https://learnpythonthehardway.org/book/):** Free online resource to learn Python to a somewhat advanced level.\n",
    "* **[Learn pandas & sklearn on Kaggle](https://www.kaggle.com/learn/overview):** Jupyter Notebook based training exercises and examples.\n",
    "* **Contact:** john@coefficient.ai / @john_sandall\n",
    "\n",
    "---"
   ]
  }
 ],
 "metadata": {
  "kernelspec": {
   "display_name": "Python 3",
   "language": "python",
   "name": "python3"
  },
  "language_info": {
   "codemirror_mode": {
    "name": "ipython",
    "version": 3
   },
   "file_extension": ".py",
   "mimetype": "text/x-python",
   "name": "python",
   "nbconvert_exporter": "python",
   "pygments_lexer": "ipython3",
   "version": "3.6.6"
  }
 },
 "nbformat": 4,
 "nbformat_minor": 1
}
